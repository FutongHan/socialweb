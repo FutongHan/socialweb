{
 "cells": [
  {
   "cell_type": "code",
   "execution_count": 1,
   "metadata": {},
   "outputs": [],
   "source": [
    "import pymysql\n",
    "import pandas as pd\n",
    "from  nltk.corpus import stopwords\n",
    "from collections import Counter"
   ]
  },
  {
   "cell_type": "code",
   "execution_count": 6,
   "metadata": {},
   "outputs": [
    {
     "data": {
      "text/html": [
       "<div>\n",
       "<style scoped>\n",
       "    .dataframe tbody tr th:only-of-type {\n",
       "        vertical-align: middle;\n",
       "    }\n",
       "\n",
       "    .dataframe tbody tr th {\n",
       "        vertical-align: top;\n",
       "    }\n",
       "\n",
       "    .dataframe thead th {\n",
       "        text-align: right;\n",
       "    }\n",
       "</style>\n",
       "<table border=\"1\" class=\"dataframe\">\n",
       "  <thead>\n",
       "    <tr style=\"text-align: right;\">\n",
       "      <th></th>\n",
       "      <th>text</th>\n",
       "      <th>user_followers_count</th>\n",
       "    </tr>\n",
       "  </thead>\n",
       "  <tbody>\n",
       "    <tr>\n",
       "      <th>0</th>\n",
       "      <td>Unable to obtain any masks amid the #coronavir...</td>\n",
       "      <td>712949</td>\n",
       "    </tr>\n",
       "    <tr>\n",
       "      <th>1</th>\n",
       "      <td>#Virus dents #bookings for #IHG; #Japan may lo...</td>\n",
       "      <td>1863</td>\n",
       "    </tr>\n",
       "    <tr>\n",
       "      <th>2</th>\n",
       "      <td>#day14 unpack and pack again. No more unpack u...</td>\n",
       "      <td>4573</td>\n",
       "    </tr>\n",
       "    <tr>\n",
       "      <th>3</th>\n",
       "      <td>@MtRdefender @rthk_enews What if one of them i...</td>\n",
       "      <td>25</td>\n",
       "    </tr>\n",
       "    <tr>\n",
       "      <th>4</th>\n",
       "      <td>@TwitterMoments Uyghur Muslims, Tibetans, Chri...</td>\n",
       "      <td>654</td>\n",
       "    </tr>\n",
       "    <tr>\n",
       "      <th>...</th>\n",
       "      <td>...</td>\n",
       "      <td>...</td>\n",
       "    </tr>\n",
       "    <tr>\n",
       "      <th>6172</th>\n",
       "      <td>The Keshe Foundation is trying to help many wi...</td>\n",
       "      <td>1250</td>\n",
       "    </tr>\n",
       "    <tr>\n",
       "      <th>6173</th>\n",
       "      <td>Development of vaccine against new #coronaviru...</td>\n",
       "      <td>758</td>\n",
       "    </tr>\n",
       "    <tr>\n",
       "      <th>6174</th>\n",
       "      <td>Breaking News: Multiple US troop casualties af...</td>\n",
       "      <td>190</td>\n",
       "    </tr>\n",
       "    <tr>\n",
       "      <th>6175</th>\n",
       "      <td>Tim Pool: “I’m beginning to think we got a ser...</td>\n",
       "      <td>1607</td>\n",
       "    </tr>\n",
       "    <tr>\n",
       "      <th>6176</th>\n",
       "      <td>RT @CoronavirusUpd3: 2/8 #coronavirus \\n\\nEpoc...</td>\n",
       "      <td>1582</td>\n",
       "    </tr>\n",
       "  </tbody>\n",
       "</table>\n",
       "<p>6177 rows × 2 columns</p>\n",
       "</div>"
      ],
      "text/plain": [
       "                                                   text  user_followers_count\n",
       "0     Unable to obtain any masks amid the #coronavir...                712949\n",
       "1     #Virus dents #bookings for #IHG; #Japan may lo...                  1863\n",
       "2     #day14 unpack and pack again. No more unpack u...                  4573\n",
       "3     @MtRdefender @rthk_enews What if one of them i...                    25\n",
       "4     @TwitterMoments Uyghur Muslims, Tibetans, Chri...                   654\n",
       "...                                                 ...                   ...\n",
       "6172  The Keshe Foundation is trying to help many wi...                  1250\n",
       "6173  Development of vaccine against new #coronaviru...                   758\n",
       "6174  Breaking News: Multiple US troop casualties af...                   190\n",
       "6175  Tim Pool: “I’m beginning to think we got a ser...                  1607\n",
       "6176  RT @CoronavirusUpd3: 2/8 #coronavirus \\n\\nEpoc...                  1582\n",
       "\n",
       "[6177 rows x 2 columns]"
      ]
     },
     "execution_count": 6,
     "metadata": {},
     "output_type": "execute_result"
    }
   ],
   "source": [
    "con = pymysql.connect(host='127.0.0.1',user='root',charset='utf8',db='abc',passwd='1234')\n",
    "sql = \"SELECT text,user_followers_count FROM tweets\"\n",
    "df = pd.read_sql(sql,con)\n",
    "df"
   ]
  },
  {
   "cell_type": "code",
   "execution_count": 12,
   "metadata": {},
   "outputs": [],
   "source": [
    "import numpy as np\n",
    "import matplotlib as mpl\n",
    "import matplotlib.pyplot as plt\n",
    "from scipy import stats"
   ]
  },
  {
   "cell_type": "code",
   "execution_count": 16,
   "metadata": {},
   "outputs": [
    {
     "data": {
      "text/html": [
       "<div>\n",
       "<style scoped>\n",
       "    .dataframe tbody tr th:only-of-type {\n",
       "        vertical-align: middle;\n",
       "    }\n",
       "\n",
       "    .dataframe tbody tr th {\n",
       "        vertical-align: top;\n",
       "    }\n",
       "\n",
       "    .dataframe thead th {\n",
       "        text-align: right;\n",
       "    }\n",
       "</style>\n",
       "<table border=\"1\" class=\"dataframe\">\n",
       "  <thead>\n",
       "    <tr style=\"text-align: right;\">\n",
       "      <th></th>\n",
       "      <th>text</th>\n",
       "      <th>user_followers_count</th>\n",
       "    </tr>\n",
       "  </thead>\n",
       "  <tbody>\n",
       "    <tr>\n",
       "      <th>0</th>\n",
       "      <td>Unable to obtain any masks amid the #coronavir...</td>\n",
       "      <td>712949</td>\n",
       "    </tr>\n",
       "    <tr>\n",
       "      <th>8</th>\n",
       "      <td>This dog was left alone when its owner got stu...</td>\n",
       "      <td>712948</td>\n",
       "    </tr>\n",
       "    <tr>\n",
       "      <th>26</th>\n",
       "      <td>- Japan reports 88 more #DiamondPrincess passe...</td>\n",
       "      <td>164729</td>\n",
       "    </tr>\n",
       "    <tr>\n",
       "      <th>28</th>\n",
       "      <td>Staying indoors doesn't mean neglecting fitnes...</td>\n",
       "      <td>712948</td>\n",
       "    </tr>\n",
       "    <tr>\n",
       "      <th>33</th>\n",
       "      <td>Despite an apparent decline in the number of d...</td>\n",
       "      <td>712948</td>\n",
       "    </tr>\n",
       "    <tr>\n",
       "      <th>...</th>\n",
       "      <td>...</td>\n",
       "      <td>...</td>\n",
       "    </tr>\n",
       "    <tr>\n",
       "      <th>5809</th>\n",
       "      <td>ICYMI: A botched test result from the U.S. Cen...</td>\n",
       "      <td>180621</td>\n",
       "    </tr>\n",
       "    <tr>\n",
       "      <th>5827</th>\n",
       "      <td>China #coronavirus reporting ?. Survival doesn...</td>\n",
       "      <td>144552</td>\n",
       "    </tr>\n",
       "    <tr>\n",
       "      <th>5948</th>\n",
       "      <td>871 have died from #coronavirus in #China's Hu...</td>\n",
       "      <td>452628</td>\n",
       "    </tr>\n",
       "    <tr>\n",
       "      <th>6104</th>\n",
       "      <td>#Coronavirus death toll climbs to 722 in #Chin...</td>\n",
       "      <td>127153</td>\n",
       "    </tr>\n",
       "    <tr>\n",
       "      <th>6110</th>\n",
       "      <td>RT @MikeChillit: #CoronaVirus Here is the upda...</td>\n",
       "      <td>160626</td>\n",
       "    </tr>\n",
       "  </tbody>\n",
       "</table>\n",
       "<p>123 rows × 2 columns</p>\n",
       "</div>"
      ],
      "text/plain": [
       "                                                   text  user_followers_count\n",
       "0     Unable to obtain any masks amid the #coronavir...                712949\n",
       "8     This dog was left alone when its owner got stu...                712948\n",
       "26    - Japan reports 88 more #DiamondPrincess passe...                164729\n",
       "28    Staying indoors doesn't mean neglecting fitnes...                712948\n",
       "33    Despite an apparent decline in the number of d...                712948\n",
       "...                                                 ...                   ...\n",
       "5809  ICYMI: A botched test result from the U.S. Cen...                180621\n",
       "5827  China #coronavirus reporting ?. Survival doesn...                144552\n",
       "5948  871 have died from #coronavirus in #China's Hu...                452628\n",
       "6104  #Coronavirus death toll climbs to 722 in #Chin...                127153\n",
       "6110  RT @MikeChillit: #CoronaVirus Here is the upda...                160626\n",
       "\n",
       "[123 rows x 2 columns]"
      ]
     },
     "execution_count": 16,
     "metadata": {},
     "output_type": "execute_result"
    }
   ],
   "source": [
    "#  followers count>100000\n",
    "df2 = df[df['user_followers_count'] > 100000]\n",
    "df2"
   ]
  },
  {
   "cell_type": "code",
   "execution_count": 18,
   "metadata": {},
   "outputs": [
    {
     "name": "stdout",
     "output_type": "stream",
     "text": [
      "[Sentiment(polarity=-0.25, subjectivity=0.25), Sentiment(polarity=0.0, subjectivity=0.0), Sentiment(polarity=0.3333333333333333, subjectivity=0.7166666666666667), Sentiment(polarity=-0.3125, subjectivity=0.6875), Sentiment(polarity=0.05, subjectivity=0.35), Sentiment(polarity=0.8, subjectivity=1.0), Sentiment(polarity=-0.25, subjectivity=0.25), Sentiment(polarity=0.05, subjectivity=0.35), Sentiment(polarity=0.8, subjectivity=1.0), Sentiment(polarity=0.5, subjectivity=0.5)]\n"
     ]
    }
   ],
   "source": [
    "from textblob import TextBlob\n",
    "\n",
    "output = []\n",
    "\n",
    "for context in df2['text']:\n",
    "    blob = TextBlob(context)\n",
    "    output.append(blob.sentiment)\n",
    "    \n",
    "print(output[:10])"
   ]
  },
  {
   "cell_type": "code",
   "execution_count": 25,
   "metadata": {},
   "outputs": [
    {
     "data": {
      "text/plain": [
       "(array([ 1.,  2.,  2.,  1.,  6.,  6., 51., 11., 11., 13.,  7.,  9.,  1.,\n",
       "         0.,  2.]),\n",
       " array([-0.66666667, -0.56888889, -0.47111111, -0.37333333, -0.27555556,\n",
       "        -0.17777778, -0.08      ,  0.01777778,  0.11555556,  0.21333333,\n",
       "         0.31111111,  0.40888889,  0.50666667,  0.60444444,  0.70222222,\n",
       "         0.8       ]),\n",
       " <a list of 15 Patch objects>)"
      ]
     },
     "execution_count": 25,
     "metadata": {},
     "output_type": "execute_result"
    },
    {
     "data": {
      "image/png": "[encoded data removed]",
      "text/plain": [
       "<Figure size 432x288 with 1 Axes>"
      ]
     },
     "metadata": {
      "needs_background": "light"
     },
     "output_type": "display_data"
    }
   ],
   "source": [
    "polarity_list = []\n",
    "for i in output:\n",
    "    polarity_list.append(i.polarity)\n",
    "plt.hist(polarity_list,bins=15)"
   ]
  }
 ],
 "metadata": {
  "kernelspec": {
   "display_name": "Python 3",
   "language": "python",
   "name": "python3"
  },
  "language_info": {
   "codemirror_mode": {
    "name": "ipython",
    "version": 3
   },
   "file_extension": ".py",
   "mimetype": "text/x-python",
   "name": "python",
   "nbconvert_exporter": "python",
   "pygments_lexer": "ipython3",
   "version": "3.6.5"
  }
 },
 "nbformat": 4,
 "nbformat_minor": 4
}
