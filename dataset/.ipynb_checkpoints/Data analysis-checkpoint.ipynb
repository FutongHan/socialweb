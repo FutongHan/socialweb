{
 "cells": [
  {
   "cell_type": "code",
   "execution_count": 1,
   "metadata": {},
   "outputs": [],
   "source": [
    "import pymysql\n",
    "import pandas as pd\n",
    "from  nltk.corpus import stopwords\n",
    "from collections import Counter\n",
    "import re"
   ]
  },
  {
   "cell_type": "code",
   "execution_count": 2,
   "metadata": {},
   "outputs": [
    {
     "name": "stdout",
     "output_type": "stream",
     "text": [
      "                                                   text\n",
      "0     Unable to obtain any masks amid the #coronavir...\n",
      "1     #Virus dents #bookings for #IHG; #Japan may lo...\n",
      "2     #day14 unpack and pack again. No more unpack u...\n",
      "3     @MtRdefender @rthk_enews What if one of them i...\n",
      "4     @TwitterMoments Uyghur Muslims, Tibetans, Chri...\n",
      "...                                                 ...\n",
      "6172  The Keshe Foundation is trying to help many wi...\n",
      "6173  Development of vaccine against new #coronaviru...\n",
      "6174  Breaking News: Multiple US troop casualties af...\n",
      "6175  Tim Pool: “I’m beginning to think we got a ser...\n",
      "6176  RT @CoronavirusUpd3: 2/8 #coronavirus \\n\\nEpoc...\n",
      "\n",
      "[6177 rows x 1 columns]\n"
     ]
    }
   ],
   "source": [
    "con = pymysql.connect(host='127.0.0.1',user='root',charset='utf8',db='abc',passwd='1234')\n",
    "sql = \"SELECT text FROM tweets\"\n",
    "df = pd.read_sql(sql,con)\n",
    "print(df)"
   ]
  },
  {
   "cell_type": "code",
   "execution_count": 3,
   "metadata": {},
   "outputs": [],
   "source": [
    "words = stopwords.words('english')\n",
    "for w in ['!',',','.','?','-','&amp','I','The','RT','A','#Cov','This','&amp;','like','Hong','We','one','Kong','#covid19','#COVID19','#nCov',\n",
    "         'could','get','https','#2019nCoV','know','|','In','dougles ','\\nCCP','CCP','day','??']:\n",
    "    words.append(w)"
   ]
  },
  {
   "cell_type": "code",
   "execution_count": 4,
   "metadata": {},
   "outputs": [],
   "source": [
    "def remove_urls (vTEXT):\n",
    "    vTEXT = re.sub(r'https:\\/\\/(\\w|\\.|\\/|\\?|\\=|\\&|\\%)*\\b', '', vTEXT, flags=re.MULTILINE)\n",
    "    return(vTEXT)"
   ]
  },
  {
   "cell_type": "code",
   "execution_count": 21,
   "metadata": {},
   "outputs": [
    {
     "name": "stdout",
     "output_type": "stream",
     "text": [
      "[('#coronavirus', 3746), ('#Coronavirus', 1027), ('China', 497), ('cases', 455), ('#CoronavirusOutbreak', 423), ('#China', 405), ('people', 391), ('new', 353), ('Chinese', 316), ('outbreak', 299), ('coronavirus', 264), ('Coronavirus', 239), ('virus', 235), ('#CoronaVirus', 230), ('#Wuhan', 226), ('via', 226), ('confirmed', 221), ('#Singapore', 177), ('#coronaviruswuhan', 175), ('Singapore', 173), ('#coronavirus.', 170), ('spread', 166), ('Wuhan', 162), ('#virus', 145), ('infected', 145), ('#coronavirus,', 139), ('global', 139), ('death', 138), ('need', 137), ('due', 137), ('#wuhanflu', 134), ('#coronaoutbreak', 132), ('health', 129), ('How', 129), ('#ad', 129), ('US', 128), ('#HongKong', 126), ('quarantine', 125), ('going', 124), ('#china', 124)]\n"
     ]
    }
   ],
   "source": [
    "#Compute word frequency\n",
    "\n",
    "text_2 = []\n",
    "sentiment_towards_government = []\n",
    "\n",
    "for context in df['text']:\n",
    "    context_1 = remove_urls(context)\n",
    "    text_1 = context_1.split()\n",
    "    for word in text_1:\n",
    "        if word not in words:\n",
    "            text_2.append(word)\n",
    "        if word == 'government':\n",
    "            sentiment_towards_government.append(context_1)\n",
    "                    \n",
    "# print(text_2)\n",
    "\n",
    "c = Counter(text_2)\n",
    "print(c.most_common()[:40])"
   ]
  },
  {
   "cell_type": "code",
   "execution_count": 6,
   "metadata": {},
   "outputs": [
    {
     "name": "stdout",
     "output_type": "stream",
     "text": [
      "[Sentiment(polarity=-0.25, subjectivity=0.25), Sentiment(polarity=0.0, subjectivity=0.0), Sentiment(polarity=-0.25, subjectivity=0.5), Sentiment(polarity=0.0, subjectivity=0.0), Sentiment(polarity=0.0, subjectivity=0.175), Sentiment(polarity=0.2, subjectivity=0.525), Sentiment(polarity=0.0, subjectivity=0.0), Sentiment(polarity=-0.6, subjectivity=1.0), Sentiment(polarity=0.0, subjectivity=0.0), Sentiment(polarity=0.25, subjectivity=0.9)]\n"
     ]
    }
   ],
   "source": [
    "# sample for sentiment using textblob\n",
    "# polarity是情感极性，-1代表完全负面，1代表完全正面。subjectivity代表主观性\n",
    "\n",
    "from textblob import TextBlob\n",
    "\n",
    "output = []\n",
    "text_3 = []\n",
    "text_4 = []\n",
    "\n",
    "for context in df['text']:\n",
    "    blob = TextBlob(context)\n",
    "    output.append(blob.sentiment)\n",
    "    if blob.sentiment.polarity>0.4:\n",
    "        text_3.append(context)\n",
    "    if blob.sentiment.polarity<-0.4:    \n",
    "        text_4.append(context)   \n",
    "\n",
    "print(output[:10])"
   ]
  },
  {
   "cell_type": "code",
   "execution_count": 7,
   "metadata": {},
   "outputs": [],
   "source": [
    "import numpy as np\n",
    "import matplotlib as mpl\n",
    "import matplotlib.pyplot as plt\n",
    "from scipy import stats"
   ]
  },
  {
   "cell_type": "code",
   "execution_count": 8,
   "metadata": {},
   "outputs": [
    {
     "data": {
      "text/plain": [
       "(array([  29.,   37.,  161.,  283.,  718., 3642.,  808.,  384.,   57.,\n",
       "          58.]),\n",
       " array([-1. , -0.8, -0.6, -0.4, -0.2,  0. ,  0.2,  0.4,  0.6,  0.8,  1. ]),\n",
       " <a list of 10 Patch objects>)"
      ]
     },
     "execution_count": 8,
     "metadata": {},
     "output_type": "execute_result"
    },
    {
     "data": {
      "image/png": "[encoded data removed]",
      "text/plain": [
       "<Figure size 432x288 with 1 Axes>"
      ]
     },
     "metadata": {
      "needs_background": "light"
     },
     "output_type": "display_data"
    }
   ],
   "source": [
    "# make a histogram to show sentiment\n",
    "polarity_list = []\n",
    "for i in output:\n",
    "    polarity_list.append(i.polarity)\n",
    "plt.hist(polarity_list)"
   ]
  },
  {
   "cell_type": "markdown",
   "metadata": {},
   "source": [
    "Word Cloud"
   ]
  },
  {
   "cell_type": "code",
   "execution_count": 9,
   "metadata": {},
   "outputs": [
    {
     "data": {
      "image/png": "[encoded data removed]",
      "text/plain": [
       "<Figure size 432x288 with 1 Axes>"
      ]
     },
     "metadata": {
      "needs_background": "light"
     },
     "output_type": "display_data"
    },
    {
     "data": {
      "text/plain": [
       "<wordcloud.wordcloud.WordCloud at 0x1e9992fafd0>"
      ]
     },
     "execution_count": 9,
     "metadata": {},
     "output_type": "execute_result"
    }
   ],
   "source": [
    "from wordcloud import WordCloud\n",
    "\n",
    "str = ' '\n",
    "str.join(text_2)\n",
    "wordcloud = WordCloud(background_color=\"white\",width=2000, height=2000, margin=2).generate(str.join(text_2))\n",
    "\n",
    "plt.imshow(wordcloud)\n",
    "plt.axis(\"off\")\n",
    "plt.show()\n",
    "\n",
    "wordcloud.to_file('test.png')"
   ]
  },
  {
   "cell_type": "code",
   "execution_count": 19,
   "metadata": {},
   "outputs": [
    {
     "name": "stdout",
     "output_type": "stream",
     "text": [
      "['??This #coronavirus-inspired #parody of #Torn has gone #viral! Go check out this amazing #HKer Kathy Mak!!??\\n\\n“How do I use the #lift??”\\n“How do I get the #door??”\\n\\n? https://t.co/MrJsE2i5A9\\n\\n#WeAreHKers #我地係香港人 #COVID19 #HongKong #Hongkonger #virus #song #lyrics https://t.co/bOynxkhfDr', \"When you're happy you're no longer quarantined, and you know it, dance. #coronavirus https://t.co/VPgo9FG4Nv\", 'Proud ?of the team of our Consulate-General here in #guangzhou for having been ranked the 3rd most #sustainable office of all #Dutch diplomatic missions worldwide. Good news in times of #coronavirus ! @MinBZ @DutchMFA https://t.co/RKR7OieOEH', 'RTHK more toxic than #coronavirus: #HongKongPolice supporters https://t.co/jujJZnP4o0', 'China coronavirus outbreak: All the latest updates | China News https://t.co/grwGuoYxA7 #coronavirus']\n",
      "[('#coronavirus', 296), ('#Coronavirus', 90), ('China', 44), ('cases', 42), ('#China', 39), ('#CoronavirusOutbreak', 35), ('good', 34), ('latest', 31), ('people', 30), ('More', 25), ('many', 23), ('#Wuhan', 21), ('#WuhanCoronavirus', 21), ('#CoronaVirus', 20), ('Coronavirus', 19), ('best', 18), ('#HongKong', 17), ('coronavirus', 16), ('#WuhanVirus', 16), ('via', 16), ('updates', 15), ('virus', 15), ('How', 15), ('#nCoV2019', 15), ('#Singapore', 15), ('news', 14), ('Great', 14), ('outbreak', 14), ('better', 14), ('would', 14), ('#wuhan', 14), ('Good', 13), ('sure', 13), ('infected', 13), ('top', 13), ('want', 13), ('2', 12), ('make', 12), ('If', 12), ('spread', 11)]\n"
     ]
    }
   ],
   "source": [
    "# for sentiment score>0.4, we think the sentiments are positive,then we give some words example\n",
    "text_good = []\n",
    "for context in text_3:\n",
    "    context_2 = remove_urls(context)\n",
    "    text_5 = context_2.split()\n",
    "    for word in text_5:\n",
    "        if word not in words:\n",
    "            text_good.append(word)\n",
    "\n",
    "print(text_3[:5])\n",
    "c_1 = Counter(text_good)\n",
    "print(c_1.most_common()[:40])"
   ]
  },
  {
   "cell_type": "code",
   "execution_count": 20,
   "metadata": {},
   "outputs": [
    {
     "name": "stdout",
     "output_type": "stream",
     "text": [
      "['@studioincendo Lest we forget. And everyone please do take care during Wuhan #coronavirus outbreak &amp; cold weather...', 'This is fake news.... \\n#Coronavirustruth #COVID19 #coronavirus #FakeNewsAlert\\n#FakeNews #Wuhan\\n\\nhttps://t.co/6rmmkLGTw8 https://t.co/Z6aXELe0IL', 'WTF is this! How come the #censorship is helping to contain the #coronavirus? At least @agnesbuzyn didn’t praise #China for their totalitarian regime. #FrenchGov https://t.co/Gjs1uq0WSf', 'As #Wuhan’s desperate &amp; sick beg for help, #China shuts them down. \\n\"Even now, when the #WuhanCoronavirus has taken &gt; 1,700 lives, the government is still trying to hide information\" #coronavirus #coronaviruschina #WuhanCoronavirusOutbreak #WuhanPneumonia https://t.co/X0wifRlWvy', 'If this isn’t proof of completely irrational and insane behavior then what is? #coronavirus  https://t.co/TnFak6TnCs']\n",
      "[('#coronavirus', 128), ('#Coronavirus', 27), ('#China', 15), ('China', 14), ('people', 13), ('coronavirus', 12), ('#CoronavirusOutbreak', 11), ('virus', 11), ('Coronavirus', 11), ('And', 10), ('quarantine', 10), ('#Wuhan', 9), ('If', 9), ('TO', 9), ('outbreak', 8), ('sick', 8), ('US', 8), ('via', 8), ('#CoronaVirus', 8), ('Wuhan', 7), ('How', 7), ('As', 7), ('#HongKong', 7), ('need', 7), ('infected', 7), ('Why', 7), ('take', 6), ('fake', 6), ('#Coronavirustruth', 6), ('talking', 6), ('even', 6), ('us', 6), ('go', 6), ('@WHO', 6), ('#Singapore', 6), ('World', 6), ('news', 6), ('#pandemic', 6), ('worst', 5), ('getting', 5)]\n"
     ]
    }
   ],
   "source": [
    "# for sentiment score<-0.4, we think the sentiments are positive,then we give some words example\n",
    "\n",
    "text_bad = []\n",
    "for context in text_4:\n",
    "    context_3 = remove_urls(context)\n",
    "    text_6 = context_3.split()\n",
    "    for word in text_6:\n",
    "        if word not in words:\n",
    "            text_bad.append(word)\n",
    "\n",
    "print(text_4[:5])\n",
    "c_2 = Counter(text_bad)\n",
    "print(c_2.most_common()[:40])"
   ]
  },
  {
   "cell_type": "code",
   "execution_count": 22,
   "metadata": {},
   "outputs": [
    {
     "name": "stdout",
     "output_type": "stream",
     "text": [
      "[Sentiment(polarity=0.0, subjectivity=0.0), Sentiment(polarity=-0.125, subjectivity=0.375), Sentiment(polarity=-0.48994708994708996, subjectivity=0.7153439153439153), Sentiment(polarity=0.16666666666666666, subjectivity=0.19999999999999998), Sentiment(polarity=0.20185185185185184, subjectivity=0.44814814814814813), Sentiment(polarity=0.1, subjectivity=0.4), Sentiment(polarity=-0.05, subjectivity=0.2), Sentiment(polarity=0.10000000000000002, subjectivity=0.3833333333333333), Sentiment(polarity=0.0, subjectivity=0.0), Sentiment(polarity=0.26785714285714285, subjectivity=0.48928571428571427)]\n"
     ]
    }
   ],
   "source": [
    "#compute sentiment towards government\n",
    "government_output = []\n",
    "\n",
    "for context in sentiment_towards_government:\n",
    "    blob = TextBlob(context)\n",
    "    government_output.append(blob.sentiment) \n",
    "\n",
    "print(government_output[:10])"
   ]
  },
  {
   "cell_type": "code",
   "execution_count": 23,
   "metadata": {},
   "outputs": [
    {
     "data": {
      "text/plain": [
       "(array([ 1.,  0.,  0.,  3.,  4., 13., 56., 30., 10.,  3.]),\n",
       " array([-1.        , -0.84333333, -0.68666667, -0.53      , -0.37333333,\n",
       "        -0.21666667, -0.06      ,  0.09666667,  0.25333333,  0.41      ,\n",
       "         0.56666667]),\n",
       " <a list of 10 Patch objects>)"
      ]
     },
     "execution_count": 23,
     "metadata": {},
     "output_type": "execute_result"
    },
    {
     "data": {
      "image/png": "[encoded data removed]",
      "text/plain": [
       "<Figure size 432x288 with 1 Axes>"
      ]
     },
     "metadata": {
      "needs_background": "light"
     },
     "output_type": "display_data"
    }
   ],
   "source": [
    "polarity_list_government = []\n",
    "for i in government_output:\n",
    "    polarity_list_government.append(i.polarity)\n",
    "plt.hist(polarity_list_government)"
   ]
  }
 ],
 "metadata": {
  "kernelspec": {
   "display_name": "Python 3",
   "language": "python",
   "name": "python3"
  },
  "language_info": {
   "codemirror_mode": {
    "name": "ipython",
    "version": 3
   },
   "file_extension": ".py",
   "mimetype": "text/x-python",
   "name": "python",
   "nbconvert_exporter": "python",
   "pygments_lexer": "ipython3",
   "version": "3.6.5"
  }
 },
 "nbformat": 4,
 "nbformat_minor": 4
}
