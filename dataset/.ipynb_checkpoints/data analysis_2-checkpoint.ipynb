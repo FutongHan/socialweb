{
 "cells": [
  {
   "cell_type": "code",
   "execution_count": 45,
   "metadata": {},
   "outputs": [],
   "source": [
    "import pymysql\n",
    "import pandas as pd\n",
    "from textblob import TextBlob\n",
    "import numpy as np\n",
    "import matplotlib as mpl\n",
    "import matplotlib.pyplot as plt\n",
    "from scipy import stats"
   ]
  },
  {
   "cell_type": "code",
   "execution_count": 38,
   "metadata": {},
   "outputs": [
    {
     "data": {
      "text/html": [
       "<div>\n",
       "<style scoped>\n",
       "    .dataframe tbody tr th:only-of-type {\n",
       "        vertical-align: middle;\n",
       "    }\n",
       "\n",
       "    .dataframe tbody tr th {\n",
       "        vertical-align: top;\n",
       "    }\n",
       "\n",
       "    .dataframe thead th {\n",
       "        text-align: right;\n",
       "    }\n",
       "</style>\n",
       "<table border=\"1\" class=\"dataframe\">\n",
       "  <thead>\n",
       "    <tr style=\"text-align: right;\">\n",
       "      <th></th>\n",
       "      <th>text</th>\n",
       "      <th>location</th>\n",
       "    </tr>\n",
       "  </thead>\n",
       "  <tbody>\n",
       "    <tr>\n",
       "      <th>0</th>\n",
       "      <td>Unable to obtain any masks amid the #coronavir...</td>\n",
       "      <td>Hong Kong</td>\n",
       "    </tr>\n",
       "    <tr>\n",
       "      <th>1</th>\n",
       "      <td>#Virus dents #bookings for #IHG; #Japan may lo...</td>\n",
       "      <td>Hong Kong</td>\n",
       "    </tr>\n",
       "    <tr>\n",
       "      <th>2</th>\n",
       "      <td>#day14 unpack and pack again. No more unpack u...</td>\n",
       "      <td>Hong Kong</td>\n",
       "    </tr>\n",
       "    <tr>\n",
       "      <th>3</th>\n",
       "      <td>@MtRdefender @rthk_enews What if one of them i...</td>\n",
       "      <td>Hong Kong</td>\n",
       "    </tr>\n",
       "    <tr>\n",
       "      <th>4</th>\n",
       "      <td>@TwitterMoments Uyghur Muslims, Tibetans, Chri...</td>\n",
       "      <td>Hong Kong</td>\n",
       "    </tr>\n",
       "    <tr>\n",
       "      <th>...</th>\n",
       "      <td>...</td>\n",
       "      <td>...</td>\n",
       "    </tr>\n",
       "    <tr>\n",
       "      <th>6172</th>\n",
       "      <td>The Keshe Foundation is trying to help many wi...</td>\n",
       "      <td>USA</td>\n",
       "    </tr>\n",
       "    <tr>\n",
       "      <th>6173</th>\n",
       "      <td>Development of vaccine against new #coronaviru...</td>\n",
       "      <td>USA</td>\n",
       "    </tr>\n",
       "    <tr>\n",
       "      <th>6174</th>\n",
       "      <td>Breaking News: Multiple US troop casualties af...</td>\n",
       "      <td>USA</td>\n",
       "    </tr>\n",
       "    <tr>\n",
       "      <th>6175</th>\n",
       "      <td>Tim Pool: “I’m beginning to think we got a ser...</td>\n",
       "      <td>USA</td>\n",
       "    </tr>\n",
       "    <tr>\n",
       "      <th>6176</th>\n",
       "      <td>RT @CoronavirusUpd3: 2/8 #coronavirus \\n\\nEpoc...</td>\n",
       "      <td>USA</td>\n",
       "    </tr>\n",
       "  </tbody>\n",
       "</table>\n",
       "<p>6177 rows × 2 columns</p>\n",
       "</div>"
      ],
      "text/plain": [
       "                                                   text   location\n",
       "0     Unable to obtain any masks amid the #coronavir...  Hong Kong\n",
       "1     #Virus dents #bookings for #IHG; #Japan may lo...  Hong Kong\n",
       "2     #day14 unpack and pack again. No more unpack u...  Hong Kong\n",
       "3     @MtRdefender @rthk_enews What if one of them i...  Hong Kong\n",
       "4     @TwitterMoments Uyghur Muslims, Tibetans, Chri...  Hong Kong\n",
       "...                                                 ...        ...\n",
       "6172  The Keshe Foundation is trying to help many wi...        USA\n",
       "6173  Development of vaccine against new #coronaviru...        USA\n",
       "6174  Breaking News: Multiple US troop casualties af...        USA\n",
       "6175  Tim Pool: “I’m beginning to think we got a ser...        USA\n",
       "6176  RT @CoronavirusUpd3: 2/8 #coronavirus \\n\\nEpoc...        USA\n",
       "\n",
       "[6177 rows x 2 columns]"
      ]
     },
     "execution_count": 38,
     "metadata": {},
     "output_type": "execute_result"
    }
   ],
   "source": [
    "con = pymysql.connect(host='127.0.0.1',user='root',charset='utf8',db='abc',passwd='1234')\n",
    "sql = \"SELECT text,location FROM tweets\"\n",
    "df = pd.read_sql(sql,con)\n",
    "df"
   ]
  },
  {
   "cell_type": "code",
   "execution_count": 39,
   "metadata": {},
   "outputs": [
    {
     "name": "stdout",
     "output_type": "stream",
     "text": [
      "{'USA', 'Netherlands', 'Hong Kong', 'Singapore'}\n"
     ]
    }
   ],
   "source": [
    "print(set(df['location']))"
   ]
  },
  {
   "cell_type": "markdown",
   "metadata": {},
   "source": [
    "# compute sentiment by location"
   ]
  },
  {
   "cell_type": "code",
   "execution_count": 58,
   "metadata": {},
   "outputs": [
    {
     "name": "stdout",
     "output_type": "stream",
     "text": [
      "(3149, 2)\n"
     ]
    },
    {
     "data": {
      "text/plain": [
       "(array([  20.,   20.,   90.,  159.,  373., 1840.,  422.,  184.,   22.,\n",
       "          19.]),\n",
       " array([-1. , -0.8, -0.6, -0.4, -0.2,  0. ,  0.2,  0.4,  0.6,  0.8,  1. ]),\n",
       " <a list of 10 Patch objects>)"
      ]
     },
     "execution_count": 58,
     "metadata": {},
     "output_type": "execute_result"
    },
    {
     "data": {
      "image/png": "[encoded data removed]",
      "text/plain": [
       "<Figure size 432x288 with 1 Axes>"
      ]
     },
     "metadata": {
      "needs_background": "light"
     },
     "output_type": "display_data"
    }
   ],
   "source": [
    "output_1 = []\n",
    "polarity_list_1 = []\n",
    "df_1 = df[df['location']=='USA']\n",
    "print(df_1.shape)\n",
    "for context in df_1['text']:\n",
    "    blob = TextBlob(context)\n",
    "    output_1.append(blob.sentiment)\n",
    "for i in output_1:\n",
    "    polarity_list_1.append(i.polarity)\n",
    "plt.hist(polarity_list_1)"
   ]
  },
  {
   "cell_type": "code",
   "execution_count": 52,
   "metadata": {},
   "outputs": [
    {
     "name": "stdout",
     "output_type": "stream",
     "text": [
      "(888, 2)\n"
     ]
    },
    {
     "data": {
      "text/plain": [
       "(array([  4.,   4.,  22.,  39., 103., 514., 126.,  56.,   7.,  13.]),\n",
       " array([-1. , -0.8, -0.6, -0.4, -0.2,  0. ,  0.2,  0.4,  0.6,  0.8,  1. ]),\n",
       " <a list of 10 Patch objects>)"
      ]
     },
     "execution_count": 52,
     "metadata": {},
     "output_type": "execute_result"
    },
    {
     "data": {
      "image/png": "[encoded data removed]",
      "text/plain": [
       "<Figure size 432x288 with 1 Axes>"
      ]
     },
     "metadata": {
      "needs_background": "light"
     },
     "output_type": "display_data"
    }
   ],
   "source": [
    "output_2 = []\n",
    "polarity_list_2 = []\n",
    "df_2 = df[df['location']=='Hong Kong']\n",
    "print(df_2.shape)\n",
    "for context in df_2['text']:\n",
    "    blob = TextBlob(context)\n",
    "    output_2.append(blob.sentiment)\n",
    "for i in output_2:\n",
    "    polarity_list_2.append(i.polarity)\n",
    "plt.hist(polarity_list_2)"
   ]
  },
  {
   "cell_type": "code",
   "execution_count": 53,
   "metadata": {},
   "outputs": [
    {
     "name": "stdout",
     "output_type": "stream",
     "text": [
      "(1453, 2)\n"
     ]
    },
    {
     "data": {
      "text/plain": [
       "(array([  4.,   8.,  31.,  53., 157., 871., 181., 108.,  21.,  19.]),\n",
       " array([-1. , -0.8, -0.6, -0.4, -0.2,  0. ,  0.2,  0.4,  0.6,  0.8,  1. ]),\n",
       " <a list of 10 Patch objects>)"
      ]
     },
     "execution_count": 53,
     "metadata": {},
     "output_type": "execute_result"
    },
    {
     "data": {
      "image/png": "[encoded data removed]",
      "text/plain": [
       "<Figure size 432x288 with 1 Axes>"
      ]
     },
     "metadata": {
      "needs_background": "light"
     },
     "output_type": "display_data"
    }
   ],
   "source": [
    "output_3 = []\n",
    "polarity_list_3 = []\n",
    "df_3 = df[df['location']=='Singapore']\n",
    "print(df_3.shape)\n",
    "for context in df_3['text']:\n",
    "    blob = TextBlob(context)\n",
    "    output_3.append(blob.sentiment)\n",
    "for i in output_3:\n",
    "    polarity_list_3.append(i.polarity)\n",
    "plt.hist(polarity_list_3)"
   ]
  },
  {
   "cell_type": "code",
   "execution_count": 55,
   "metadata": {},
   "outputs": [
    {
     "name": "stdout",
     "output_type": "stream",
     "text": [
      "(687, 2)\n"
     ]
    },
    {
     "data": {
      "text/plain": [
       "(array([  1.,   5.,  18.,  32.,  85., 417.,  79.,  36.,   7.,   7.]),\n",
       " array([-1. , -0.8, -0.6, -0.4, -0.2,  0. ,  0.2,  0.4,  0.6,  0.8,  1. ]),\n",
       " <a list of 10 Patch objects>)"
      ]
     },
     "execution_count": 55,
     "metadata": {},
     "output_type": "execute_result"
    },
    {
     "data": {
      "image/png": "[encoded data removed]",
      "text/plain": [
       "<Figure size 432x288 with 1 Axes>"
      ]
     },
     "metadata": {
      "needs_background": "light"
     },
     "output_type": "display_data"
    }
   ],
   "source": [
    "output_4 = []\n",
    "polarity_list_4 = []\n",
    "df_4 = df[df['location']=='Netherlands']\n",
    "print(df_4.shape)\n",
    "for context in df_4['text']:\n",
    "    blob = TextBlob(context)\n",
    "    output_4.append(blob.sentiment)\n",
    "for i in output_4:\n",
    "    polarity_list_4.append(i.polarity)\n",
    "plt.hist(polarity_list_4)"
   ]
  },
  {
   "cell_type": "code",
   "execution_count": 96,
   "metadata": {},
   "outputs": [
    {
     "data": {
      "image/png": "[encoded data removed]",
      "text/plain": [
       "<Figure size 432x288 with 1 Axes>"
      ]
     },
     "metadata": {
      "needs_background": "light"
     },
     "output_type": "display_data"
    }
   ],
   "source": [
    "import numpy as np\n",
    "\n",
    "mean_1 = np.mean(np.array(polarity_list_1))\n",
    "mean_2 = np.mean(np.array(polarity_list_2))\n",
    "mean_3 = np.mean(np.array(polarity_list_3))\n",
    "mean_4 = np.mean(np.array(polarity_list_4))\n",
    "\n",
    "x=[mean_1,mean_2,mean_3,mean_4]\n",
    "\n",
    "# print(mean_1,mean_2,mean_3,mean_4)\n",
    "plt.barh(range(4), x, height=0.7, color='steelblue', alpha=0.8) \n",
    "plt.yticks(range(4), ['USA', 'Hong Kong', 'Singapore', 'Netherlands'])\n",
    "plt.show()"
   ]
  }
 ],
 "metadata": {
  "kernelspec": {
   "display_name": "Python 3",
   "language": "python",
   "name": "python3"
  },
  "language_info": {
   "codemirror_mode": {
    "name": "ipython",
    "version": 3
   },
   "file_extension": ".py",
   "mimetype": "text/x-python",
   "name": "python",
   "nbconvert_exporter": "python",
   "pygments_lexer": "ipython3",
   "version": "3.6.5"
  }
 },
 "nbformat": 4,
 "nbformat_minor": 4
}
