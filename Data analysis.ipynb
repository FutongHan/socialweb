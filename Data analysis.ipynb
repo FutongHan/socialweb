{
 "cells": [
  {
   "cell_type": "code",
   "execution_count": 75,
   "metadata": {},
   "outputs": [],
   "source": [
    "import pymysql\n",
    "import pandas as pd\n",
    "from  nltk.corpus import stopwords\n",
    "from collections import Counter"
   ]
  },
  {
   "cell_type": "code",
   "execution_count": 56,
   "metadata": {},
   "outputs": [
    {
     "name": "stdout",
     "output_type": "stream",
     "text": [
      "                                                   text\n",
      "0     Unable to obtain any masks amid the #coronavir...\n",
      "1     #Virus dents #bookings for #IHG; #Japan may lo...\n",
      "2     #day14 unpack and pack again. No more unpack u...\n",
      "3     @MtRdefender @rthk_enews What if one of them i...\n",
      "4     @TwitterMoments Uyghur Muslims, Tibetans, Chri...\n",
      "...                                                 ...\n",
      "6172  The Keshe Foundation is trying to help many wi...\n",
      "6173  Development of vaccine against new #coronaviru...\n",
      "6174  Breaking News: Multiple US troop casualties af...\n",
      "6175  Tim Pool: “I’m beginning to think we got a ser...\n",
      "6176  RT @CoronavirusUpd3: 2/8 #coronavirus \\n\\nEpoc...\n",
      "\n",
      "[6177 rows x 1 columns]\n"
     ]
    }
   ],
   "source": [
    "con = pymysql.connect(host='127.0.0.1',user='root',charset='utf8',db='abc',passwd='1234')\n",
    "sql = \"SELECT text FROM tweets\"\n",
    "df = pd.read_sql(sql,con)\n",
    "print(df)"
   ]
  },
  {
   "cell_type": "code",
   "execution_count": 94,
   "metadata": {},
   "outputs": [],
   "source": [
    "words = stopwords.words('english')\n",
    "for w in ['!',',','.','?','-','&amp','I','The','RT','A','#Cov','This','&amp;','like','Hong','We','one','Kong','#covid19']:\n",
    "    words.append(w)"
   ]
  },
  {
   "cell_type": "code",
   "execution_count": 95,
   "metadata": {},
   "outputs": [
    {
     "name": "stdout",
     "output_type": "stream",
     "text": [
      "[('#coronavirus', 3746), ('#Coronavirus', 1027), ('#COVID19', 992), ('China', 497), ('cases', 455), ('#CoronavirusOutbreak', 423), ('#China', 405), ('people', 391), ('new', 353), ('Chinese', 316), ('outbreak', 299), ('#2019nCoV', 276), ('coronavirus', 264), ('Coronavirus', 239), ('virus', 235), ('#CoronaVirus', 230), ('#Wuhan', 226), ('via', 226), ('confirmed', 221), ('#nCov', 179), ('#Singapore', 177), ('#coronaviruswuhan', 175), ('Singapore', 173), ('#coronavirus.', 170), ('spread', 166), ('know', 165), ('Wuhan', 162), ('could', 156), ('get', 147), ('#virus', 145)]\n"
     ]
    }
   ],
   "source": [
    "#Compute word frequency\n",
    "\n",
    "text_2 = []\n",
    "output = []\n",
    "for context in df['text']:\n",
    "    text_1 = context.split()\n",
    "    for word in text_1:\n",
    "        if word not in words:\n",
    "            text_2.append(word)\n",
    "# print(text_2)\n",
    "\n",
    "c = Counter(text_2)\n",
    "print(c.most_common()[:30])"
   ]
  },
  {
   "cell_type": "code",
   "execution_count": 114,
   "metadata": {},
   "outputs": [
    {
     "name": "stdout",
     "output_type": "stream",
     "text": [
      "[Sentiment(polarity=-0.25, subjectivity=0.25), Sentiment(polarity=0.0, subjectivity=0.0), Sentiment(polarity=-0.25, subjectivity=0.5), Sentiment(polarity=0.0, subjectivity=0.0), Sentiment(polarity=0.0, subjectivity=0.175), Sentiment(polarity=0.2, subjectivity=0.525), Sentiment(polarity=0.0, subjectivity=0.0), Sentiment(polarity=-0.6, subjectivity=1.0), Sentiment(polarity=0.0, subjectivity=0.0), Sentiment(polarity=0.25, subjectivity=0.9)]\n"
     ]
    }
   ],
   "source": [
    "# sample for sentiment using textblob\n",
    "# polarity是情感极性，-1代表完全负面，1代表完全正面。subjectivity代表主观性\n",
    "\n",
    "from textblob import TextBlob\n",
    "\n",
    "output = []\n",
    "\n",
    "for context in df['text']:\n",
    "    blob = TextBlob(context)\n",
    "    output.append(blob.sentiment)\n",
    "    \n",
    "print(output[:10])"
   ]
  },
  {
   "cell_type": "code",
   "execution_count": 103,
   "metadata": {},
   "outputs": [],
   "source": [
    "import numpy as np\n",
    "import matplotlib as mpl\n",
    "import matplotlib.pyplot as plt\n",
    "from scipy import stats"
   ]
  },
  {
   "cell_type": "code",
   "execution_count": 113,
   "metadata": {},
   "outputs": [
    {
     "data": {
      "text/plain": [
       "(array([  29.,   37.,  161.,  283.,  718., 3642.,  808.,  384.,   57.,\n",
       "          58.]),\n",
       " array([-1. , -0.8, -0.6, -0.4, -0.2,  0. ,  0.2,  0.4,  0.6,  0.8,  1. ]),\n",
       " <a list of 10 Patch objects>)"
      ]
     },
     "execution_count": 113,
     "metadata": {},
     "output_type": "execute_result"
    },
    {
     "data": {
      "image/png": "[encoded data removed]",
      "text/plain": [
       "<Figure size 432x288 with 1 Axes>"
      ]
     },
     "metadata": {
      "needs_background": "light"
     },
     "output_type": "display_data"
    }
   ],
   "source": [
    "# make a histogram to show sentiment\n",
    "\n",
    "polarity_list = []\n",
    "for i in output:\n",
    "    polarity_list.append(i.polarity)\n",
    "plt.hist(polarity_list)"
   ]
  }
 ],
 "metadata": {
  "kernelspec": {
   "display_name": "Python 3",
   "language": "python",
   "name": "python3"
  },
  "language_info": {
   "codemirror_mode": {
    "name": "ipython",
    "version": 3
   },
   "file_extension": ".py",
   "mimetype": "text/x-python",
   "name": "python",
   "nbconvert_exporter": "python",
   "pygments_lexer": "ipython3",
   "version": "3.6.5"
  }
 },
 "nbformat": 4,
 "nbformat_minor": 4
}
